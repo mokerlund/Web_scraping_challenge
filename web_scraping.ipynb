{
 "cells": [
  {
   "cell_type": "code",
   "execution_count": 18,
   "metadata": {},
   "outputs": [],
   "source": [
    "from bs4 import BeautifulSoup\n",
    "import requests\n",
    "from splinter import Browser"
   ]
  },
  {
   "cell_type": "code",
   "execution_count": 19,
   "metadata": {},
   "outputs": [],
   "source": [
    "executable_path = {'executable_path': 'chromedriver.exe'}\n",
    "browser = Browser('chrome', **executable_path, headless=False)"
   ]
  },
  {
   "cell_type": "markdown",
   "metadata": {},
   "source": [
    "# Find latest news article to display:"
   ]
  },
  {
   "cell_type": "markdown",
   "metadata": {},
   "source": [
    "### Latest nasa article"
   ]
  },
  {
   "cell_type": "code",
   "execution_count": 20,
   "metadata": {},
   "outputs": [],
   "source": [
    "url = \"https://mars.nasa.gov/news/?page=0&per_page=40&order=publish_date+desc%2Ccreated_at+desc&search=&category=19%2C165%2C184%2C204&blank_scope=Latest\"\n",
    "response = requests.get(url)\n",
    "soup = BeautifulSoup(response.text, 'html.parser')\n",
    "browser.visit(url)"
   ]
  },
  {
   "cell_type": "code",
   "execution_count": 21,
   "metadata": {},
   "outputs": [
    {
     "name": "stdout",
     "output_type": "stream",
     "text": [
      "Title: \n",
      "NASA Invites Students to Name Mars 2020 Rover\n",
      "\n",
      "P: \n",
      "Through Nov. 1, K-12 students in the U.S. are encouraged to enter an essay contest to name NASA's next Mars rover.\n",
      "\n"
     ]
    }
   ],
   "source": [
    "for i in range(1):\n",
    "    try:\n",
    "        # Find title\n",
    "        title = soup.find('div', class_=\"content_title\")\n",
    "        news_title = title.a.text\n",
    "        \n",
    "        # Find body\n",
    "        p = soup.find_all('div', class_='rollover_description_inner')\n",
    "        news_p = p[0].text\n",
    "        \n",
    "        print(f\"Title: {news_title}\")\n",
    "        print(f\"P: {news_p}\")\n",
    "    except AttributeError as e:\n",
    "        print(e)"
   ]
  },
  {
   "cell_type": "markdown",
   "metadata": {},
   "source": [
    "# Scrape images from NASA:"
   ]
  },
  {
   "cell_type": "markdown",
   "metadata": {},
   "source": [
    "### Mars image scrape"
   ]
  },
  {
   "cell_type": "code",
   "execution_count": 118,
   "metadata": {},
   "outputs": [],
   "source": [
    "executable_path = {'executable_path': 'chromedriver.exe'}\n",
    "browser = Browser('chrome', **executable_path, headless=False)"
   ]
  },
  {
   "cell_type": "code",
   "execution_count": 119,
   "metadata": {},
   "outputs": [],
   "source": [
    "url = \"https://www.jpl.nasa.gov/spaceimages/?search=&category=Mars\"\n",
    "response = requests.get(url)\n",
    "soup = BeautifulSoup(response.text, 'html.parser')\n",
    "browser.visit(url)"
   ]
  },
  {
   "cell_type": "code",
   "execution_count": 120,
   "metadata": {},
   "outputs": [],
   "source": [
    "image = soup.find('article', class_='carousel_item')\n",
    "# print(type(image))\n",
    "link_tag = image.a\n",
    "# print(link_tag)\n",
    "img_link = link_tag['data-fancybox-href']\n",
    "\n",
    "ref_link = (f\"https://www.jpl.nasa.gov{img_link}\")\n",
    "browser.visit(ref_link)"
   ]
  },
  {
   "cell_type": "markdown",
   "metadata": {},
   "source": [
    "# Scrape weather info from twitter"
   ]
  },
  {
   "cell_type": "code",
   "execution_count": 122,
   "metadata": {},
   "outputs": [],
   "source": [
    "executable_path = {'executable_path': 'chromedriver.exe'}\n",
    "browser = Browser('chrome', **executable_path, headless=False)"
   ]
  },
  {
   "cell_type": "code",
   "execution_count": 123,
   "metadata": {},
   "outputs": [],
   "source": [
    "url = \"https://twitter.com/marswxreport?lang=en\"\n",
    "response = requests.get(url)\n",
    "soup = BeautifulSoup(response.text, 'html.parser')\n",
    "browser.visit(url)"
   ]
  },
  {
   "cell_type": "code",
   "execution_count": 129,
   "metadata": {},
   "outputs": [
    {
     "name": "stdout",
     "output_type": "stream",
     "text": [
      "InSight sol 334 (2019-11-04) low -100.0ºC (-148.1ºF) high -23.8ºC (-10.8ºF)\n",
      "winds from the SSW at 5.1 m/s (11.4 mph) gusting to 19.9 m/s (44.4 mph)\n",
      "pressure at 7.00 hPapic.twitter.com/D4EX1MROay\n"
     ]
    }
   ],
   "source": [
    "first_tweet = soup.find('p', class_='tweet-text')\n",
    "print(first_tweet.text)\n",
    "\n",
    "mars_weather = first_tweet.text"
   ]
  },
  {
   "cell_type": "markdown",
   "metadata": {},
   "source": [
    "# Scrape table data from Mars Facts Website"
   ]
  },
  {
   "cell_type": "code",
   "execution_count": 138,
   "metadata": {},
   "outputs": [],
   "source": [
    "executable_path = {'executable_path': 'chromedriver.exe'}\n",
    "browser = Browser('chrome', **executable_path, headless=False)"
   ]
  },
  {
   "cell_type": "code",
   "execution_count": 139,
   "metadata": {},
   "outputs": [],
   "source": [
    "url = \"https://space-facts.com/mars/\"\n",
    "response = requests.get(url)\n",
    "soup = BeautifulSoup(response.text, 'html.parser')\n",
    "browser.visit(url)"
   ]
  },
  {
   "cell_type": "code",
   "execution_count": 151,
   "metadata": {},
   "outputs": [
    {
     "name": "stdout",
     "output_type": "stream",
     "text": [
      "<tbody>\n",
      " <tr class=\"row-1 odd\">\n",
      "  <td class=\"column-1\">\n",
      "   <strong>\n",
      "    Equatorial Diameter:\n",
      "   </strong>\n",
      "  </td>\n",
      "  <td class=\"column-2\">\n",
      "   6,792 km\n",
      "   <br/>\n",
      "  </td>\n",
      " </tr>\n",
      " <tr class=\"row-2 even\">\n",
      "  <td class=\"column-1\">\n",
      "   <strong>\n",
      "    Polar Diameter:\n",
      "   </strong>\n",
      "  </td>\n",
      "  <td class=\"column-2\">\n",
      "   6,752 km\n",
      "   <br/>\n",
      "  </td>\n",
      " </tr>\n",
      " <tr class=\"row-3 odd\">\n",
      "  <td class=\"column-1\">\n",
      "   <strong>\n",
      "    Mass:\n",
      "   </strong>\n",
      "  </td>\n",
      "  <td class=\"column-2\">\n",
      "   6.39 × 10^23 kg\n",
      "   <br/>\n",
      "   (0.11 Earths)\n",
      "  </td>\n",
      " </tr>\n",
      " <tr class=\"row-4 even\">\n",
      "  <td class=\"column-1\">\n",
      "   <strong>\n",
      "    Moons:\n",
      "   </strong>\n",
      "  </td>\n",
      "  <td class=\"column-2\">\n",
      "   2 (\n",
      "   <a href=\"https://space-facts.com/moons/phobos/\">\n",
      "    Phobos\n",
      "   </a>\n",
      "   &amp;\n",
      "   <a href=\"https://space-facts.com/moons/deimos/\">\n",
      "    Deimos\n",
      "   </a>\n",
      "   )\n",
      "  </td>\n",
      " </tr>\n",
      " <tr class=\"row-5 odd\">\n",
      "  <td class=\"column-1\">\n",
      "   <strong>\n",
      "    Orbit Distance:\n",
      "   </strong>\n",
      "  </td>\n",
      "  <td class=\"column-2\">\n",
      "   227,943,824 km\n",
      "   <br/>\n",
      "   (1.38 AU)\n",
      "  </td>\n",
      " </tr>\n",
      " <tr class=\"row-6 even\">\n",
      "  <td class=\"column-1\">\n",
      "   <strong>\n",
      "    Orbit Period:\n",
      "   </strong>\n",
      "  </td>\n",
      "  <td class=\"column-2\">\n",
      "   687 days (1.9 years)\n",
      "   <br/>\n",
      "  </td>\n",
      " </tr>\n",
      " <tr class=\"row-7 odd\">\n",
      "  <td class=\"column-1\">\n",
      "   <strong>\n",
      "    Surface Temperature:\n",
      "   </strong>\n",
      "  </td>\n",
      "  <td class=\"column-2\">\n",
      "   -87 to -5 °C\n",
      "  </td>\n",
      " </tr>\n",
      " <tr class=\"row-8 even\">\n",
      "  <td class=\"column-1\">\n",
      "   <strong>\n",
      "    First Record:\n",
      "   </strong>\n",
      "  </td>\n",
      "  <td class=\"column-2\">\n",
      "   2nd millennium BC\n",
      "  </td>\n",
      " </tr>\n",
      " <tr class=\"row-9 odd\">\n",
      "  <td class=\"column-1\">\n",
      "   <strong>\n",
      "    Recorded By:\n",
      "   </strong>\n",
      "  </td>\n",
      "  <td class=\"column-2\">\n",
      "   Egyptian astronomers\n",
      "  </td>\n",
      " </tr>\n",
      "</tbody>\n"
     ]
    }
   ],
   "source": [
    "table_info = soup.find('tbody')\n",
    "print(table_info.prettify())\n",
    "table_string = table_info"
   ]
  },
  {
   "cell_type": "markdown",
   "metadata": {},
   "source": [
    "# Mars Hemispheres photos"
   ]
  },
  {
   "cell_type": "code",
   "execution_count": 152,
   "metadata": {},
   "outputs": [],
   "source": [
    "executable_path = {'executable_path': 'chromedriver.exe'}\n",
    "browser = Browser('chrome', **executable_path, headless=False)"
   ]
  },
  {
   "cell_type": "code",
   "execution_count": 153,
   "metadata": {},
   "outputs": [],
   "source": [
    "url = \"https://astrogeology.usgs.gov/search/results?q=hemisphere+enhanced&k1=target&v1=Mars\"\n",
    "response = requests.get(url)\n",
    "soup = BeautifulSoup(response.text, 'html.parser')\n",
    "browser.visit(url)"
   ]
  },
  {
   "cell_type": "code",
   "execution_count": 187,
   "metadata": {},
   "outputs": [
    {
     "name": "stdout",
     "output_type": "stream",
     "text": [
      "<div class=\"item\"><a class=\"itemLink product-item\" href=\"/search/map/Mars/Viking/cerberus_enhanced\"><img alt=\"Cerberus Hemisphere Enhanced thumbnail\" class=\"thumb\" src=\"/cache/images/dfaf3849e74bf973b59eb50dab52b583_cerberus_enhanced.tif_thumb.png\"/><div class=\"description\"><h3>Cerberus Hemisphere Enhanced</h3></div></a><span class=\"subtitle\" style=\"float:left\">image/tiff 21 MB</span><span class=\"pubDate\" style=\"float:right\"></span><br/><p>Mosaic of the Cerberus hemisphere of Mars projected into point perspective, a view similar to that which one would see from a spacecraft. This mosaic is composed of 104 Viking Orbiter images acquired…</p></div>\n"
     ]
    }
   ],
   "source": [
    "results = soup.find_all('div', class_='item')\n",
    "first_result = results[0]\n",
    "print(first_result)"
   ]
  },
  {
   "cell_type": "code",
   "execution_count": 191,
   "metadata": {},
   "outputs": [],
   "source": [
    "hemispheres = []\n",
    "\n",
    "# GO through and click on each of the links to get the actual pic url\n",
    "\n",
    "for result in results:\n",
    "    img_url = result.a['href']\n",
    "    title = f\"https://astrogeology.usgs.gov/{result.h3.text}\"\n",
    "    hemispheres.append({\"Title\": title, \"img_url\": img_url})"
   ]
  },
  {
   "cell_type": "code",
   "execution_count": 192,
   "metadata": {},
   "outputs": [
    {
     "data": {
      "text/plain": [
       "[{'Title': 'Cerberus Hemisphere Enhanced',\n",
       "  'img_url': '/search/map/Mars/Viking/cerberus_enhanced'},\n",
       " {'Title': 'Schiaparelli Hemisphere Enhanced',\n",
       "  'img_url': '/search/map/Mars/Viking/schiaparelli_enhanced'},\n",
       " {'Title': 'Syrtis Major Hemisphere Enhanced',\n",
       "  'img_url': '/search/map/Mars/Viking/syrtis_major_enhanced'},\n",
       " {'Title': 'Valles Marineris Hemisphere Enhanced',\n",
       "  'img_url': '/search/map/Mars/Viking/valles_marineris_enhanced'}]"
      ]
     },
     "execution_count": 192,
     "metadata": {},
     "output_type": "execute_result"
    }
   ],
   "source": [
    "hemispheres"
   ]
  },
  {
   "cell_type": "code",
   "execution_count": null,
   "metadata": {},
   "outputs": [],
   "source": []
  }
 ],
 "metadata": {
  "kernelspec": {
   "display_name": "Python 3",
   "language": "python",
   "name": "python3"
  },
  "language_info": {
   "codemirror_mode": {
    "name": "ipython",
    "version": 3
   },
   "file_extension": ".py",
   "mimetype": "text/x-python",
   "name": "python",
   "nbconvert_exporter": "python",
   "pygments_lexer": "ipython3",
   "version": "3.6.9"
  }
 },
 "nbformat": 4,
 "nbformat_minor": 2
}
